{
  "nbformat": 4,
  "nbformat_minor": 0,
  "metadata": {
    "colab": {
      "provenance": [],
      "authorship_tag": "ABX9TyMMykrnzqMe/TuhNL1awjlh",
      "include_colab_link": true
    },
    "kernelspec": {
      "name": "python3",
      "display_name": "Python 3"
    },
    "language_info": {
      "name": "python"
    }
  },
  "cells": [
    {
      "cell_type": "markdown",
      "metadata": {
        "id": "view-in-github",
        "colab_type": "text"
      },
      "source": [
        "<a href=\"https://colab.research.google.com/github/VipinKum4r/binance/blob/main/Binance.ipynb\" target=\"_parent\"><img src=\"https://colab.research.google.com/assets/colab-badge.svg\" alt=\"Open In Colab\"/></a>"
      ]
    },
    {
      "cell_type": "markdown",
      "source": [
        "**Project Title:**\n",
        "> Profit Analysis of Cryptocurrency Trades\n"
      ],
      "metadata": {
        "id": "UCSBEMR7KhVR"
      }
    },
    {
      "cell_type": "markdown",
      "source": [
        "**Project Objective:**\n",
        "> The objective of this project is to analyze the realized profits of cryptocurrency trades over 3 months and identify fundamental trends and insights that can be used to inform future trading decisions."
      ],
      "metadata": {
        "id": "QzeWppqdKomi"
      }
    },
    {
      "cell_type": "markdown",
      "source": [
        "**Tools and Technologies:**\n",
        "\n",
        "*   Python\n",
        "*   Jupyter Notebook\n",
        "*   Pandas\n",
        "*   Matplotlib\n",
        "\n",
        "\n",
        "\n"
      ],
      "metadata": {
        "id": "MsQzBoPhKx6n"
      }
    },
    {
      "cell_type": "markdown",
      "source": [
        "**Data Description:**\n",
        "> The data used for this analysis is a XLSX file containing information about past trades, including the date of the trade, the cryptocurrency symbol, the trade side (buy or sell), the price, quantity, amount, fee, fee coin, realized profit, and quote asset."
      ],
      "metadata": {
        "id": "T8coHlofK4jO"
      }
    },
    {
      "cell_type": "code",
      "execution_count": 1,
      "metadata": {
        "colab": {
          "base_uri": "https://localhost:8080/",
          "height": 73
        },
        "id": "Fmk5lqWA57BF",
        "outputId": "4bbb8cb7-4bc3-4093-ec08-344039ae44fa"
      },
      "outputs": [
        {
          "output_type": "display_data",
          "data": {
            "text/plain": [
              "<IPython.core.display.HTML object>"
            ],
            "text/html": [
              "\n",
              "     <input type=\"file\" id=\"files-853039d0-f6ac-4c97-babd-8fffab2661fb\" name=\"files[]\" multiple disabled\n",
              "        style=\"border:none\" />\n",
              "     <output id=\"result-853039d0-f6ac-4c97-babd-8fffab2661fb\">\n",
              "      Upload widget is only available when the cell has been executed in the\n",
              "      current browser session. Please rerun this cell to enable.\n",
              "      </output>\n",
              "      <script>// Copyright 2017 Google LLC\n",
              "//\n",
              "// Licensed under the Apache License, Version 2.0 (the \"License\");\n",
              "// you may not use this file except in compliance with the License.\n",
              "// You may obtain a copy of the License at\n",
              "//\n",
              "//      http://www.apache.org/licenses/LICENSE-2.0\n",
              "//\n",
              "// Unless required by applicable law or agreed to in writing, software\n",
              "// distributed under the License is distributed on an \"AS IS\" BASIS,\n",
              "// WITHOUT WARRANTIES OR CONDITIONS OF ANY KIND, either express or implied.\n",
              "// See the License for the specific language governing permissions and\n",
              "// limitations under the License.\n",
              "\n",
              "/**\n",
              " * @fileoverview Helpers for google.colab Python module.\n",
              " */\n",
              "(function(scope) {\n",
              "function span(text, styleAttributes = {}) {\n",
              "  const element = document.createElement('span');\n",
              "  element.textContent = text;\n",
              "  for (const key of Object.keys(styleAttributes)) {\n",
              "    element.style[key] = styleAttributes[key];\n",
              "  }\n",
              "  return element;\n",
              "}\n",
              "\n",
              "// Max number of bytes which will be uploaded at a time.\n",
              "const MAX_PAYLOAD_SIZE = 100 * 1024;\n",
              "\n",
              "function _uploadFiles(inputId, outputId) {\n",
              "  const steps = uploadFilesStep(inputId, outputId);\n",
              "  const outputElement = document.getElementById(outputId);\n",
              "  // Cache steps on the outputElement to make it available for the next call\n",
              "  // to uploadFilesContinue from Python.\n",
              "  outputElement.steps = steps;\n",
              "\n",
              "  return _uploadFilesContinue(outputId);\n",
              "}\n",
              "\n",
              "// This is roughly an async generator (not supported in the browser yet),\n",
              "// where there are multiple asynchronous steps and the Python side is going\n",
              "// to poll for completion of each step.\n",
              "// This uses a Promise to block the python side on completion of each step,\n",
              "// then passes the result of the previous step as the input to the next step.\n",
              "function _uploadFilesContinue(outputId) {\n",
              "  const outputElement = document.getElementById(outputId);\n",
              "  const steps = outputElement.steps;\n",
              "\n",
              "  const next = steps.next(outputElement.lastPromiseValue);\n",
              "  return Promise.resolve(next.value.promise).then((value) => {\n",
              "    // Cache the last promise value to make it available to the next\n",
              "    // step of the generator.\n",
              "    outputElement.lastPromiseValue = value;\n",
              "    return next.value.response;\n",
              "  });\n",
              "}\n",
              "\n",
              "/**\n",
              " * Generator function which is called between each async step of the upload\n",
              " * process.\n",
              " * @param {string} inputId Element ID of the input file picker element.\n",
              " * @param {string} outputId Element ID of the output display.\n",
              " * @return {!Iterable<!Object>} Iterable of next steps.\n",
              " */\n",
              "function* uploadFilesStep(inputId, outputId) {\n",
              "  const inputElement = document.getElementById(inputId);\n",
              "  inputElement.disabled = false;\n",
              "\n",
              "  const outputElement = document.getElementById(outputId);\n",
              "  outputElement.innerHTML = '';\n",
              "\n",
              "  const pickedPromise = new Promise((resolve) => {\n",
              "    inputElement.addEventListener('change', (e) => {\n",
              "      resolve(e.target.files);\n",
              "    });\n",
              "  });\n",
              "\n",
              "  const cancel = document.createElement('button');\n",
              "  inputElement.parentElement.appendChild(cancel);\n",
              "  cancel.textContent = 'Cancel upload';\n",
              "  const cancelPromise = new Promise((resolve) => {\n",
              "    cancel.onclick = () => {\n",
              "      resolve(null);\n",
              "    };\n",
              "  });\n",
              "\n",
              "  // Wait for the user to pick the files.\n",
              "  const files = yield {\n",
              "    promise: Promise.race([pickedPromise, cancelPromise]),\n",
              "    response: {\n",
              "      action: 'starting',\n",
              "    }\n",
              "  };\n",
              "\n",
              "  cancel.remove();\n",
              "\n",
              "  // Disable the input element since further picks are not allowed.\n",
              "  inputElement.disabled = true;\n",
              "\n",
              "  if (!files) {\n",
              "    return {\n",
              "      response: {\n",
              "        action: 'complete',\n",
              "      }\n",
              "    };\n",
              "  }\n",
              "\n",
              "  for (const file of files) {\n",
              "    const li = document.createElement('li');\n",
              "    li.append(span(file.name, {fontWeight: 'bold'}));\n",
              "    li.append(span(\n",
              "        `(${file.type || 'n/a'}) - ${file.size} bytes, ` +\n",
              "        `last modified: ${\n",
              "            file.lastModifiedDate ? file.lastModifiedDate.toLocaleDateString() :\n",
              "                                    'n/a'} - `));\n",
              "    const percent = span('0% done');\n",
              "    li.appendChild(percent);\n",
              "\n",
              "    outputElement.appendChild(li);\n",
              "\n",
              "    const fileDataPromise = new Promise((resolve) => {\n",
              "      const reader = new FileReader();\n",
              "      reader.onload = (e) => {\n",
              "        resolve(e.target.result);\n",
              "      };\n",
              "      reader.readAsArrayBuffer(file);\n",
              "    });\n",
              "    // Wait for the data to be ready.\n",
              "    let fileData = yield {\n",
              "      promise: fileDataPromise,\n",
              "      response: {\n",
              "        action: 'continue',\n",
              "      }\n",
              "    };\n",
              "\n",
              "    // Use a chunked sending to avoid message size limits. See b/62115660.\n",
              "    let position = 0;\n",
              "    do {\n",
              "      const length = Math.min(fileData.byteLength - position, MAX_PAYLOAD_SIZE);\n",
              "      const chunk = new Uint8Array(fileData, position, length);\n",
              "      position += length;\n",
              "\n",
              "      const base64 = btoa(String.fromCharCode.apply(null, chunk));\n",
              "      yield {\n",
              "        response: {\n",
              "          action: 'append',\n",
              "          file: file.name,\n",
              "          data: base64,\n",
              "        },\n",
              "      };\n",
              "\n",
              "      let percentDone = fileData.byteLength === 0 ?\n",
              "          100 :\n",
              "          Math.round((position / fileData.byteLength) * 100);\n",
              "      percent.textContent = `${percentDone}% done`;\n",
              "\n",
              "    } while (position < fileData.byteLength);\n",
              "  }\n",
              "\n",
              "  // All done.\n",
              "  yield {\n",
              "    response: {\n",
              "      action: 'complete',\n",
              "    }\n",
              "  };\n",
              "}\n",
              "\n",
              "scope.google = scope.google || {};\n",
              "scope.google.colab = scope.google.colab || {};\n",
              "scope.google.colab._files = {\n",
              "  _uploadFiles,\n",
              "  _uploadFilesContinue,\n",
              "};\n",
              "})(self);\n",
              "</script> "
            ]
          },
          "metadata": {}
        },
        {
          "output_type": "stream",
          "name": "stdout",
          "text": [
            "Saving Binance_new.xlsx to Binance_new (2).xlsx\n"
          ]
        }
      ],
      "source": [
        "from google.colab import files\n",
        "uploaded = files.upload()\n",
        "#This will import the \"files\" module from the \"google.colab\" library and then use it to upload a file."
      ]
    },
    {
      "cell_type": "code",
      "source": [
        "import numpy as np\n",
        "import pandas as pd\n",
        "import matplotlib.pyplot as plt\n",
        "import seaborn as sns\n",
        "#These will import necessary libraries for data analysis and visualization."
      ],
      "metadata": {
        "id": "n9uvOS4p6pWC"
      },
      "execution_count": 2,
      "outputs": []
    },
    {
      "cell_type": "code",
      "source": [
        "df = pd.read_excel('Binance_new.xlsx')\n",
        "#Converting excel into dataframe"
      ],
      "metadata": {
        "colab": {
          "base_uri": "https://localhost:8080/"
        },
        "id": "ynY5zKo86wUs",
        "outputId": "95908ffd-6369-49e3-b2f1-aa0cbd19701c"
      },
      "execution_count": 3,
      "outputs": [
        {
          "output_type": "stream",
          "name": "stderr",
          "text": [
            "/usr/local/lib/python3.8/dist-packages/openpyxl/styles/stylesheet.py:226: UserWarning: Workbook contains no default style, apply openpyxl's default\n",
            "  warn(\"Workbook contains no default style, apply openpyxl's default\")\n"
          ]
        }
      ]
    },
    {
      "cell_type": "code",
      "source": [
        "df.head(5)\n",
        "#Displaying first 5 columns of dataframe"
      ],
      "metadata": {
        "colab": {
          "base_uri": "https://localhost:8080/",
          "height": 206
        },
        "id": "AOahvv3s8ET2",
        "outputId": "409416f8-76d5-4db7-9751-2a717a872ff7"
      },
      "execution_count": 4,
      "outputs": [
        {
          "output_type": "execute_result",
          "data": {
            "text/plain": [
              "             Date(UTC)  Symbol  Side   Price  Quantity    Amount       Fee  \\\n",
              "0  2023-02-18 04:48:02  ARUSDT  SELL  13.385       9.0  120.4650  0.048186   \n",
              "1  2023-02-18 04:48:02  ARUSDT  SELL  13.385      13.2  176.6820  0.070673   \n",
              "2  2023-02-18 04:48:02  ARUSDT  SELL  13.386      20.8  278.4288  0.111372   \n",
              "3  2023-02-18 04:48:02  ARUSDT  SELL  13.386      18.3  244.9638  0.097986   \n",
              "4  2023-02-18 04:48:02  ARUSDT  SELL  13.386       9.0  120.4740  0.048190   \n",
              "\n",
              "  Fee Coin  Realized Profit Quote Asset  \n",
              "0     USDT         0.757084        USDT  \n",
              "1     USDT         1.110390        USDT  \n",
              "2     USDT         1.770506        USDT  \n",
              "3     USDT         1.557705        USDT  \n",
              "4     USDT         0.766084        USDT  "
            ],
            "text/html": [
              "\n",
              "  <div id=\"df-8f52ae8b-4f33-4948-85b2-1b3a5389df74\">\n",
              "    <div class=\"colab-df-container\">\n",
              "      <div>\n",
              "<style scoped>\n",
              "    .dataframe tbody tr th:only-of-type {\n",
              "        vertical-align: middle;\n",
              "    }\n",
              "\n",
              "    .dataframe tbody tr th {\n",
              "        vertical-align: top;\n",
              "    }\n",
              "\n",
              "    .dataframe thead th {\n",
              "        text-align: right;\n",
              "    }\n",
              "</style>\n",
              "<table border=\"1\" class=\"dataframe\">\n",
              "  <thead>\n",
              "    <tr style=\"text-align: right;\">\n",
              "      <th></th>\n",
              "      <th>Date(UTC)</th>\n",
              "      <th>Symbol</th>\n",
              "      <th>Side</th>\n",
              "      <th>Price</th>\n",
              "      <th>Quantity</th>\n",
              "      <th>Amount</th>\n",
              "      <th>Fee</th>\n",
              "      <th>Fee Coin</th>\n",
              "      <th>Realized Profit</th>\n",
              "      <th>Quote Asset</th>\n",
              "    </tr>\n",
              "  </thead>\n",
              "  <tbody>\n",
              "    <tr>\n",
              "      <th>0</th>\n",
              "      <td>2023-02-18 04:48:02</td>\n",
              "      <td>ARUSDT</td>\n",
              "      <td>SELL</td>\n",
              "      <td>13.385</td>\n",
              "      <td>9.0</td>\n",
              "      <td>120.4650</td>\n",
              "      <td>0.048186</td>\n",
              "      <td>USDT</td>\n",
              "      <td>0.757084</td>\n",
              "      <td>USDT</td>\n",
              "    </tr>\n",
              "    <tr>\n",
              "      <th>1</th>\n",
              "      <td>2023-02-18 04:48:02</td>\n",
              "      <td>ARUSDT</td>\n",
              "      <td>SELL</td>\n",
              "      <td>13.385</td>\n",
              "      <td>13.2</td>\n",
              "      <td>176.6820</td>\n",
              "      <td>0.070673</td>\n",
              "      <td>USDT</td>\n",
              "      <td>1.110390</td>\n",
              "      <td>USDT</td>\n",
              "    </tr>\n",
              "    <tr>\n",
              "      <th>2</th>\n",
              "      <td>2023-02-18 04:48:02</td>\n",
              "      <td>ARUSDT</td>\n",
              "      <td>SELL</td>\n",
              "      <td>13.386</td>\n",
              "      <td>20.8</td>\n",
              "      <td>278.4288</td>\n",
              "      <td>0.111372</td>\n",
              "      <td>USDT</td>\n",
              "      <td>1.770506</td>\n",
              "      <td>USDT</td>\n",
              "    </tr>\n",
              "    <tr>\n",
              "      <th>3</th>\n",
              "      <td>2023-02-18 04:48:02</td>\n",
              "      <td>ARUSDT</td>\n",
              "      <td>SELL</td>\n",
              "      <td>13.386</td>\n",
              "      <td>18.3</td>\n",
              "      <td>244.9638</td>\n",
              "      <td>0.097986</td>\n",
              "      <td>USDT</td>\n",
              "      <td>1.557705</td>\n",
              "      <td>USDT</td>\n",
              "    </tr>\n",
              "    <tr>\n",
              "      <th>4</th>\n",
              "      <td>2023-02-18 04:48:02</td>\n",
              "      <td>ARUSDT</td>\n",
              "      <td>SELL</td>\n",
              "      <td>13.386</td>\n",
              "      <td>9.0</td>\n",
              "      <td>120.4740</td>\n",
              "      <td>0.048190</td>\n",
              "      <td>USDT</td>\n",
              "      <td>0.766084</td>\n",
              "      <td>USDT</td>\n",
              "    </tr>\n",
              "  </tbody>\n",
              "</table>\n",
              "</div>\n",
              "      <button class=\"colab-df-convert\" onclick=\"convertToInteractive('df-8f52ae8b-4f33-4948-85b2-1b3a5389df74')\"\n",
              "              title=\"Convert this dataframe to an interactive table.\"\n",
              "              style=\"display:none;\">\n",
              "        \n",
              "  <svg xmlns=\"http://www.w3.org/2000/svg\" height=\"24px\"viewBox=\"0 0 24 24\"\n",
              "       width=\"24px\">\n",
              "    <path d=\"M0 0h24v24H0V0z\" fill=\"none\"/>\n",
              "    <path d=\"M18.56 5.44l.94 2.06.94-2.06 2.06-.94-2.06-.94-.94-2.06-.94 2.06-2.06.94zm-11 1L8.5 8.5l.94-2.06 2.06-.94-2.06-.94L8.5 2.5l-.94 2.06-2.06.94zm10 10l.94 2.06.94-2.06 2.06-.94-2.06-.94-.94-2.06-.94 2.06-2.06.94z\"/><path d=\"M17.41 7.96l-1.37-1.37c-.4-.4-.92-.59-1.43-.59-.52 0-1.04.2-1.43.59L10.3 9.45l-7.72 7.72c-.78.78-.78 2.05 0 2.83L4 21.41c.39.39.9.59 1.41.59.51 0 1.02-.2 1.41-.59l7.78-7.78 2.81-2.81c.8-.78.8-2.07 0-2.86zM5.41 20L4 18.59l7.72-7.72 1.47 1.35L5.41 20z\"/>\n",
              "  </svg>\n",
              "      </button>\n",
              "      \n",
              "  <style>\n",
              "    .colab-df-container {\n",
              "      display:flex;\n",
              "      flex-wrap:wrap;\n",
              "      gap: 12px;\n",
              "    }\n",
              "\n",
              "    .colab-df-convert {\n",
              "      background-color: #E8F0FE;\n",
              "      border: none;\n",
              "      border-radius: 50%;\n",
              "      cursor: pointer;\n",
              "      display: none;\n",
              "      fill: #1967D2;\n",
              "      height: 32px;\n",
              "      padding: 0 0 0 0;\n",
              "      width: 32px;\n",
              "    }\n",
              "\n",
              "    .colab-df-convert:hover {\n",
              "      background-color: #E2EBFA;\n",
              "      box-shadow: 0px 1px 2px rgba(60, 64, 67, 0.3), 0px 1px 3px 1px rgba(60, 64, 67, 0.15);\n",
              "      fill: #174EA6;\n",
              "    }\n",
              "\n",
              "    [theme=dark] .colab-df-convert {\n",
              "      background-color: #3B4455;\n",
              "      fill: #D2E3FC;\n",
              "    }\n",
              "\n",
              "    [theme=dark] .colab-df-convert:hover {\n",
              "      background-color: #434B5C;\n",
              "      box-shadow: 0px 1px 3px 1px rgba(0, 0, 0, 0.15);\n",
              "      filter: drop-shadow(0px 1px 2px rgba(0, 0, 0, 0.3));\n",
              "      fill: #FFFFFF;\n",
              "    }\n",
              "  </style>\n",
              "\n",
              "      <script>\n",
              "        const buttonEl =\n",
              "          document.querySelector('#df-8f52ae8b-4f33-4948-85b2-1b3a5389df74 button.colab-df-convert');\n",
              "        buttonEl.style.display =\n",
              "          google.colab.kernel.accessAllowed ? 'block' : 'none';\n",
              "\n",
              "        async function convertToInteractive(key) {\n",
              "          const element = document.querySelector('#df-8f52ae8b-4f33-4948-85b2-1b3a5389df74');\n",
              "          const dataTable =\n",
              "            await google.colab.kernel.invokeFunction('convertToInteractive',\n",
              "                                                     [key], {});\n",
              "          if (!dataTable) return;\n",
              "\n",
              "          const docLinkHtml = 'Like what you see? Visit the ' +\n",
              "            '<a target=\"_blank\" href=https://colab.research.google.com/notebooks/data_table.ipynb>data table notebook</a>'\n",
              "            + ' to learn more about interactive tables.';\n",
              "          element.innerHTML = '';\n",
              "          dataTable['output_type'] = 'display_data';\n",
              "          await google.colab.output.renderOutput(dataTable, element);\n",
              "          const docLink = document.createElement('div');\n",
              "          docLink.innerHTML = docLinkHtml;\n",
              "          element.appendChild(docLink);\n",
              "        }\n",
              "      </script>\n",
              "    </div>\n",
              "  </div>\n",
              "  "
            ]
          },
          "metadata": {},
          "execution_count": 4
        }
      ]
    },
    {
      "cell_type": "code",
      "source": [
        "df.info()\n",
        "#number of non-null values, the data type of each column, and the memory usage of the DataFrame"
      ],
      "metadata": {
        "colab": {
          "base_uri": "https://localhost:8080/"
        },
        "id": "1tyMvE3G8LCj",
        "outputId": "789df9ba-e9e7-4313-8a89-f01b3105394c"
      },
      "execution_count": 5,
      "outputs": [
        {
          "output_type": "stream",
          "name": "stdout",
          "text": [
            "<class 'pandas.core.frame.DataFrame'>\n",
            "RangeIndex: 1228 entries, 0 to 1227\n",
            "Data columns (total 10 columns):\n",
            " #   Column           Non-Null Count  Dtype  \n",
            "---  ------           --------------  -----  \n",
            " 0   Date(UTC)        1228 non-null   object \n",
            " 1   Symbol           1228 non-null   object \n",
            " 2   Side             1228 non-null   object \n",
            " 3   Price            1228 non-null   float64\n",
            " 4   Quantity         1228 non-null   float64\n",
            " 5   Amount           1228 non-null   float64\n",
            " 6   Fee              1228 non-null   float64\n",
            " 7   Fee Coin         1228 non-null   object \n",
            " 8   Realized Profit  1228 non-null   float64\n",
            " 9   Quote Asset      1228 non-null   object \n",
            "dtypes: float64(5), object(5)\n",
            "memory usage: 96.1+ KB\n"
          ]
        }
      ]
    },
    {
      "cell_type": "code",
      "source": [
        "df.describe()\n",
        "#numerical summary"
      ],
      "metadata": {
        "colab": {
          "base_uri": "https://localhost:8080/",
          "height": 300
        },
        "id": "mz7BgMle8MqB",
        "outputId": "4cda9a11-5ee8-48e9-c742-fe8c69c15d57"
      },
      "execution_count": 6,
      "outputs": [
        {
          "output_type": "execute_result",
          "data": {
            "text/plain": [
              "              Price       Quantity       Amount          Fee  Realized Profit\n",
              "count   1228.000000    1228.000000  1228.000000  1228.000000      1228.000000\n",
              "mean     722.400024    3036.128507   338.176694     0.108410         0.298269\n",
              "std     3793.685036   22968.724484   493.535143     0.162559         3.995753\n",
              "min        0.000781       0.001000     0.326100     0.000000       -52.346710\n",
              "25%        0.223000      26.000000    83.239950     0.024112         0.000000\n",
              "50%        1.311000     156.500000   216.002030     0.069083         0.000000\n",
              "75%        5.511000     896.000000   425.138793     0.135721         0.563136\n",
              "max    23910.000000  440003.000000  7293.157200     2.917263        34.841440"
            ],
            "text/html": [
              "\n",
              "  <div id=\"df-dceb72c5-2036-4ecc-9e9d-1eb00e4741ce\">\n",
              "    <div class=\"colab-df-container\">\n",
              "      <div>\n",
              "<style scoped>\n",
              "    .dataframe tbody tr th:only-of-type {\n",
              "        vertical-align: middle;\n",
              "    }\n",
              "\n",
              "    .dataframe tbody tr th {\n",
              "        vertical-align: top;\n",
              "    }\n",
              "\n",
              "    .dataframe thead th {\n",
              "        text-align: right;\n",
              "    }\n",
              "</style>\n",
              "<table border=\"1\" class=\"dataframe\">\n",
              "  <thead>\n",
              "    <tr style=\"text-align: right;\">\n",
              "      <th></th>\n",
              "      <th>Price</th>\n",
              "      <th>Quantity</th>\n",
              "      <th>Amount</th>\n",
              "      <th>Fee</th>\n",
              "      <th>Realized Profit</th>\n",
              "    </tr>\n",
              "  </thead>\n",
              "  <tbody>\n",
              "    <tr>\n",
              "      <th>count</th>\n",
              "      <td>1228.000000</td>\n",
              "      <td>1228.000000</td>\n",
              "      <td>1228.000000</td>\n",
              "      <td>1228.000000</td>\n",
              "      <td>1228.000000</td>\n",
              "    </tr>\n",
              "    <tr>\n",
              "      <th>mean</th>\n",
              "      <td>722.400024</td>\n",
              "      <td>3036.128507</td>\n",
              "      <td>338.176694</td>\n",
              "      <td>0.108410</td>\n",
              "      <td>0.298269</td>\n",
              "    </tr>\n",
              "    <tr>\n",
              "      <th>std</th>\n",
              "      <td>3793.685036</td>\n",
              "      <td>22968.724484</td>\n",
              "      <td>493.535143</td>\n",
              "      <td>0.162559</td>\n",
              "      <td>3.995753</td>\n",
              "    </tr>\n",
              "    <tr>\n",
              "      <th>min</th>\n",
              "      <td>0.000781</td>\n",
              "      <td>0.001000</td>\n",
              "      <td>0.326100</td>\n",
              "      <td>0.000000</td>\n",
              "      <td>-52.346710</td>\n",
              "    </tr>\n",
              "    <tr>\n",
              "      <th>25%</th>\n",
              "      <td>0.223000</td>\n",
              "      <td>26.000000</td>\n",
              "      <td>83.239950</td>\n",
              "      <td>0.024112</td>\n",
              "      <td>0.000000</td>\n",
              "    </tr>\n",
              "    <tr>\n",
              "      <th>50%</th>\n",
              "      <td>1.311000</td>\n",
              "      <td>156.500000</td>\n",
              "      <td>216.002030</td>\n",
              "      <td>0.069083</td>\n",
              "      <td>0.000000</td>\n",
              "    </tr>\n",
              "    <tr>\n",
              "      <th>75%</th>\n",
              "      <td>5.511000</td>\n",
              "      <td>896.000000</td>\n",
              "      <td>425.138793</td>\n",
              "      <td>0.135721</td>\n",
              "      <td>0.563136</td>\n",
              "    </tr>\n",
              "    <tr>\n",
              "      <th>max</th>\n",
              "      <td>23910.000000</td>\n",
              "      <td>440003.000000</td>\n",
              "      <td>7293.157200</td>\n",
              "      <td>2.917263</td>\n",
              "      <td>34.841440</td>\n",
              "    </tr>\n",
              "  </tbody>\n",
              "</table>\n",
              "</div>\n",
              "      <button class=\"colab-df-convert\" onclick=\"convertToInteractive('df-dceb72c5-2036-4ecc-9e9d-1eb00e4741ce')\"\n",
              "              title=\"Convert this dataframe to an interactive table.\"\n",
              "              style=\"display:none;\">\n",
              "        \n",
              "  <svg xmlns=\"http://www.w3.org/2000/svg\" height=\"24px\"viewBox=\"0 0 24 24\"\n",
              "       width=\"24px\">\n",
              "    <path d=\"M0 0h24v24H0V0z\" fill=\"none\"/>\n",
              "    <path d=\"M18.56 5.44l.94 2.06.94-2.06 2.06-.94-2.06-.94-.94-2.06-.94 2.06-2.06.94zm-11 1L8.5 8.5l.94-2.06 2.06-.94-2.06-.94L8.5 2.5l-.94 2.06-2.06.94zm10 10l.94 2.06.94-2.06 2.06-.94-2.06-.94-.94-2.06-.94 2.06-2.06.94z\"/><path d=\"M17.41 7.96l-1.37-1.37c-.4-.4-.92-.59-1.43-.59-.52 0-1.04.2-1.43.59L10.3 9.45l-7.72 7.72c-.78.78-.78 2.05 0 2.83L4 21.41c.39.39.9.59 1.41.59.51 0 1.02-.2 1.41-.59l7.78-7.78 2.81-2.81c.8-.78.8-2.07 0-2.86zM5.41 20L4 18.59l7.72-7.72 1.47 1.35L5.41 20z\"/>\n",
              "  </svg>\n",
              "      </button>\n",
              "      \n",
              "  <style>\n",
              "    .colab-df-container {\n",
              "      display:flex;\n",
              "      flex-wrap:wrap;\n",
              "      gap: 12px;\n",
              "    }\n",
              "\n",
              "    .colab-df-convert {\n",
              "      background-color: #E8F0FE;\n",
              "      border: none;\n",
              "      border-radius: 50%;\n",
              "      cursor: pointer;\n",
              "      display: none;\n",
              "      fill: #1967D2;\n",
              "      height: 32px;\n",
              "      padding: 0 0 0 0;\n",
              "      width: 32px;\n",
              "    }\n",
              "\n",
              "    .colab-df-convert:hover {\n",
              "      background-color: #E2EBFA;\n",
              "      box-shadow: 0px 1px 2px rgba(60, 64, 67, 0.3), 0px 1px 3px 1px rgba(60, 64, 67, 0.15);\n",
              "      fill: #174EA6;\n",
              "    }\n",
              "\n",
              "    [theme=dark] .colab-df-convert {\n",
              "      background-color: #3B4455;\n",
              "      fill: #D2E3FC;\n",
              "    }\n",
              "\n",
              "    [theme=dark] .colab-df-convert:hover {\n",
              "      background-color: #434B5C;\n",
              "      box-shadow: 0px 1px 3px 1px rgba(0, 0, 0, 0.15);\n",
              "      filter: drop-shadow(0px 1px 2px rgba(0, 0, 0, 0.3));\n",
              "      fill: #FFFFFF;\n",
              "    }\n",
              "  </style>\n",
              "\n",
              "      <script>\n",
              "        const buttonEl =\n",
              "          document.querySelector('#df-dceb72c5-2036-4ecc-9e9d-1eb00e4741ce button.colab-df-convert');\n",
              "        buttonEl.style.display =\n",
              "          google.colab.kernel.accessAllowed ? 'block' : 'none';\n",
              "\n",
              "        async function convertToInteractive(key) {\n",
              "          const element = document.querySelector('#df-dceb72c5-2036-4ecc-9e9d-1eb00e4741ce');\n",
              "          const dataTable =\n",
              "            await google.colab.kernel.invokeFunction('convertToInteractive',\n",
              "                                                     [key], {});\n",
              "          if (!dataTable) return;\n",
              "\n",
              "          const docLinkHtml = 'Like what you see? Visit the ' +\n",
              "            '<a target=\"_blank\" href=https://colab.research.google.com/notebooks/data_table.ipynb>data table notebook</a>'\n",
              "            + ' to learn more about interactive tables.';\n",
              "          element.innerHTML = '';\n",
              "          dataTable['output_type'] = 'display_data';\n",
              "          await google.colab.output.renderOutput(dataTable, element);\n",
              "          const docLink = document.createElement('div');\n",
              "          docLink.innerHTML = docLinkHtml;\n",
              "          element.appendChild(docLink);\n",
              "        }\n",
              "      </script>\n",
              "    </div>\n",
              "  </div>\n",
              "  "
            ]
          },
          "metadata": {},
          "execution_count": 6
        }
      ]
    },
    {
      "cell_type": "markdown",
      "source": [
        "**Data Cleaning:**\n",
        "The following steps were taken to clean and preprocess the data:\n",
        "\n",
        "> Removed unnecessary columns and renamed some columns for clarity.\n",
        "\n",
        "> Converted the 'Date(UTC)' column to a datetime object and set it as the index.\n",
        "\n",
        "> Checked for missing or null values and dropped any rows with missing values.\n",
        "\n",
        "> Checked for and removed any duplicate entries.\n",
        "\n",
        "\n",
        "\n",
        "\n",
        "\n"
      ],
      "metadata": {
        "id": "CUwFOJ5bLEfT"
      }
    },
    {
      "cell_type": "code",
      "source": [
        "df.isnull().sum()\n",
        "#number of missing values "
      ],
      "metadata": {
        "colab": {
          "base_uri": "https://localhost:8080/"
        },
        "id": "OEWSwH7T8OTI",
        "outputId": "5336c2f0-1a84-40e0-81a2-db509db8f2f8"
      },
      "execution_count": 7,
      "outputs": [
        {
          "output_type": "execute_result",
          "data": {
            "text/plain": [
              "Date(UTC)          0\n",
              "Symbol             0\n",
              "Side               0\n",
              "Price              0\n",
              "Quantity           0\n",
              "Amount             0\n",
              "Fee                0\n",
              "Fee Coin           0\n",
              "Realized Profit    0\n",
              "Quote Asset        0\n",
              "dtype: int64"
            ]
          },
          "metadata": {},
          "execution_count": 7
        }
      ]
    },
    {
      "cell_type": "code",
      "source": [
        "df.columns\n",
        "#column names"
      ],
      "metadata": {
        "colab": {
          "base_uri": "https://localhost:8080/"
        },
        "id": "c6tFWT7LClwz",
        "outputId": "e0431f57-aa6c-44be-87e6-f503cf756614"
      },
      "execution_count": 8,
      "outputs": [
        {
          "output_type": "execute_result",
          "data": {
            "text/plain": [
              "Index(['Date(UTC)', 'Symbol', 'Side', 'Price', 'Quantity', 'Amount', 'Fee',\n",
              "       'Fee Coin', 'Realized Profit', 'Quote Asset'],\n",
              "      dtype='object')"
            ]
          },
          "metadata": {},
          "execution_count": 8
        }
      ]
    },
    {
      "cell_type": "code",
      "source": [
        "df.shape\n",
        "#number of rows and columns"
      ],
      "metadata": {
        "colab": {
          "base_uri": "https://localhost:8080/"
        },
        "id": "e8e4y_vPCyio",
        "outputId": "33a39715-d670-48fb-a4e9-e158719e514b"
      },
      "execution_count": 9,
      "outputs": [
        {
          "output_type": "execute_result",
          "data": {
            "text/plain": [
              "(1228, 10)"
            ]
          },
          "metadata": {},
          "execution_count": 9
        }
      ]
    },
    {
      "cell_type": "code",
      "source": [
        "df.dtypes\n",
        "#datatype of each column"
      ],
      "metadata": {
        "colab": {
          "base_uri": "https://localhost:8080/"
        },
        "id": "VOP30jMSC2Ec",
        "outputId": "cd996872-7302-4aaf-9c13-1cd584df2a41"
      },
      "execution_count": 10,
      "outputs": [
        {
          "output_type": "execute_result",
          "data": {
            "text/plain": [
              "Date(UTC)           object\n",
              "Symbol              object\n",
              "Side                object\n",
              "Price              float64\n",
              "Quantity           float64\n",
              "Amount             float64\n",
              "Fee                float64\n",
              "Fee Coin            object\n",
              "Realized Profit    float64\n",
              "Quote Asset         object\n",
              "dtype: object"
            ]
          },
          "metadata": {},
          "execution_count": 10
        }
      ]
    },
    {
      "cell_type": "code",
      "source": [
        "df['Date(UTC)'] = pd.to_datetime(df['Date(UTC)'])\n",
        "#These lines convert the \"Date(UTC)\" column of the DataFrame to datetime format using the \"to_datetime\" function from pandas."
      ],
      "metadata": {
        "id": "D1DN8Z5EC7s-"
      },
      "execution_count": 11,
      "outputs": []
    },
    {
      "cell_type": "code",
      "source": [
        "df.dtypes\n",
        "#updated datatypes"
      ],
      "metadata": {
        "colab": {
          "base_uri": "https://localhost:8080/"
        },
        "id": "3C_4Gh7xDhc6",
        "outputId": "10abdcf8-cccd-49da-8d94-e614c96772c6"
      },
      "execution_count": 12,
      "outputs": [
        {
          "output_type": "execute_result",
          "data": {
            "text/plain": [
              "Date(UTC)          datetime64[ns]\n",
              "Symbol                     object\n",
              "Side                       object\n",
              "Price                     float64\n",
              "Quantity                  float64\n",
              "Amount                    float64\n",
              "Fee                       float64\n",
              "Fee Coin                   object\n",
              "Realized Profit           float64\n",
              "Quote Asset                object\n",
              "dtype: object"
            ]
          },
          "metadata": {},
          "execution_count": 12
        }
      ]
    },
    {
      "cell_type": "code",
      "source": [
        "df['Profit/Loss'] = df['Realized Profit'] - df['Fee']\n",
        "#calculate profit/loss for each transaction"
      ],
      "metadata": {
        "id": "YsPO29KQEKHW"
      },
      "execution_count": 13,
      "outputs": []
    },
    {
      "cell_type": "code",
      "source": [
        "df['Profit/Loss']\n",
        "#displaying profit/loss"
      ],
      "metadata": {
        "colab": {
          "base_uri": "https://localhost:8080/"
        },
        "id": "Ekavp2wCEZ-x",
        "outputId": "2d49fd1c-27eb-4432-b20d-96cd623ec158"
      },
      "execution_count": 14,
      "outputs": [
        {
          "output_type": "execute_result",
          "data": {
            "text/plain": [
              "0        0.708898\n",
              "1        1.039717\n",
              "2        1.659134\n",
              "3        1.459719\n",
              "4        0.717895\n",
              "          ...    \n",
              "1223    -4.395473\n",
              "1224    -1.023054\n",
              "1225    -0.517178\n",
              "1226   -12.113031\n",
              "1227    -0.127915\n",
              "Name: Profit/Loss, Length: 1228, dtype: float64"
            ]
          },
          "metadata": {},
          "execution_count": 14
        }
      ]
    },
    {
      "cell_type": "code",
      "source": [
        "daily_pl = df.groupby(df['Date(UTC)'].dt.date)['Profit/Loss'].sum()\n",
        "#group data by date and calculate daily profit/loss"
      ],
      "metadata": {
        "id": "mPprg2oKEemB"
      },
      "execution_count": 15,
      "outputs": []
    },
    {
      "cell_type": "code",
      "source": [
        "daily_pl\n",
        "#profit or loss of each day"
      ],
      "metadata": {
        "colab": {
          "base_uri": "https://localhost:8080/"
        },
        "id": "wk-jILaLEjN3",
        "outputId": "a5fccd07-d25d-4ca3-f8e8-8630a592ebc7"
      },
      "execution_count": 16,
      "outputs": [
        {
          "output_type": "execute_result",
          "data": {
            "text/plain": [
              "Date(UTC)\n",
              "2022-11-18    -30.300366\n",
              "2022-11-19     11.974015\n",
              "2022-11-21      3.297388\n",
              "2022-11-22      2.738376\n",
              "2022-11-23      3.883081\n",
              "2022-11-24    -45.131391\n",
              "2022-11-25      3.578174\n",
              "2022-11-26      1.301608\n",
              "2022-11-28    -10.540798\n",
              "2022-12-27      2.738602\n",
              "2022-12-28     11.553049\n",
              "2022-12-29    -29.933240\n",
              "2023-01-13      5.181373\n",
              "2023-01-14      2.338829\n",
              "2023-01-15     -6.563261\n",
              "2023-01-16      1.337761\n",
              "2023-01-19     -0.033392\n",
              "2023-01-20    -10.158462\n",
              "2023-01-21      6.719461\n",
              "2023-01-22     12.451086\n",
              "2023-01-23      9.493587\n",
              "2023-01-24     -3.702428\n",
              "2023-01-25    -69.731822\n",
              "2023-01-26      5.065891\n",
              "2023-01-27     -3.757500\n",
              "2023-01-28    -27.919306\n",
              "2023-01-29      8.395040\n",
              "2023-01-30     -2.269603\n",
              "2023-01-31      1.534968\n",
              "2023-02-01     11.970647\n",
              "2023-02-02     26.554833\n",
              "2023-02-04     -0.114951\n",
              "2023-02-05    -89.753900\n",
              "2023-02-06     47.275115\n",
              "2023-02-07    115.541824\n",
              "2023-02-08     40.000238\n",
              "2023-02-09      0.045850\n",
              "2023-02-10     39.515693\n",
              "2023-02-11     20.615059\n",
              "2023-02-12     23.266842\n",
              "2023-02-14     32.444402\n",
              "2023-02-15     27.988563\n",
              "2023-02-16     19.677702\n",
              "2023-02-17     53.085680\n",
              "2023-02-18     11.492559\n",
              "Name: Profit/Loss, dtype: float64"
            ]
          },
          "metadata": {},
          "execution_count": 16
        }
      ]
    },
    {
      "cell_type": "code",
      "source": [
        "overall_pl = df['Profit/Loss'].sum()\n",
        "# calculate overall profit/loss"
      ],
      "metadata": {
        "id": "ce8Q_lulEklj"
      },
      "execution_count": 17,
      "outputs": []
    },
    {
      "cell_type": "code",
      "source": [
        "overall_pl\n",
        "# displaying overall profit/loss"
      ],
      "metadata": {
        "colab": {
          "base_uri": "https://localhost:8080/"
        },
        "id": "5amEe4ulEoIv",
        "outputId": "e125ba8a-80d6-441c-f3c9-e45efc91d8b1"
      },
      "execution_count": 18,
      "outputs": [
        {
          "output_type": "execute_result",
          "data": {
            "text/plain": [
              "233.14687632999994"
            ]
          },
          "metadata": {},
          "execution_count": 18
        }
      ]
    },
    {
      "cell_type": "code",
      "source": [
        "best_day = daily_pl.idxmax()\n",
        "worst_day = daily_pl.idxmin()\n",
        "# find best and worst trading days"
      ],
      "metadata": {
        "id": "J6R-upEJEpBu"
      },
      "execution_count": 19,
      "outputs": []
    },
    {
      "cell_type": "code",
      "source": [
        "best_day , daily_pl[best_day]\n",
        "#displaying the best day and the profit on that day"
      ],
      "metadata": {
        "colab": {
          "base_uri": "https://localhost:8080/"
        },
        "id": "mWKHqBLpEru8",
        "outputId": "dada863c-daac-4627-848b-abd1513dc5c2"
      },
      "execution_count": 20,
      "outputs": [
        {
          "output_type": "execute_result",
          "data": {
            "text/plain": [
              "(datetime.date(2023, 2, 7), 115.54182389)"
            ]
          },
          "metadata": {},
          "execution_count": 20
        }
      ]
    },
    {
      "cell_type": "code",
      "source": [
        "worst_day , daily_pl[worst_day]\n",
        "#displaying the worst day and the loss on that day"
      ],
      "metadata": {
        "colab": {
          "base_uri": "https://localhost:8080/"
        },
        "id": "5b9wCRttEs98",
        "outputId": "2e3f9135-9568-45df-835c-5ff0ad616032"
      },
      "execution_count": 21,
      "outputs": [
        {
          "output_type": "execute_result",
          "data": {
            "text/plain": [
              "(datetime.date(2023, 2, 5), -89.75390048)"
            ]
          },
          "metadata": {},
          "execution_count": 21
        }
      ]
    },
    {
      "cell_type": "code",
      "source": [
        "fig, ax = plt.subplots()\n",
        "ax.bar(daily_pl.index, daily_pl)\n",
        "ax.set_xlabel('Date')\n",
        "ax.set_ylabel('Profit/Loss')\n",
        "ax.set_title('Daily Profit/Loss')\n",
        "plt.show()\n",
        "plt.figure(figsize=(40,6))\n",
        "# plot daily profit/loss"
      ],
      "metadata": {
        "colab": {
          "base_uri": "https://localhost:8080/",
          "height": 330
        },
        "id": "33VG3kSeEusZ",
        "outputId": "4b49f35b-7d82-44a6-db77-ef600d708d5e"
      },
      "execution_count": 22,
      "outputs": [
        {
          "output_type": "display_data",
          "data": {
            "text/plain": [
              "<Figure size 432x288 with 1 Axes>"
            ],
            "image/png": "[encoded data removed]"
          },
          "metadata": {
            "needs_background": "light"
          }
        },
        {
          "output_type": "execute_result",
          "data": {
            "text/plain": [
              "<Figure size 2880x432 with 0 Axes>"
            ]
          },
          "metadata": {},
          "execution_count": 22
        },
        {
          "output_type": "display_data",
          "data": {
            "text/plain": [
              "<Figure size 2880x432 with 0 Axes>"
            ]
          },
          "metadata": {}
        }
      ]
    },
    {
      "cell_type": "markdown",
      "source": [
        "**Conclusion:**\n",
        "\n",
        "The total realized profit of all trades was calculated to be $233.14\n",
        "\n",
        "The best day for trading was found to be 7-Feb-2023 with a realized profit of $115.5\n",
        "\n",
        "The worst day for trading was found to be 5-Feb-2023 with a realized loss of $89.7\n",
        "\n",
        "A scatter plot was created to visualize the relationship between the price and quantity of trades.\n",
        "\n",
        "A histogram was created to visualize the distribution of realized profits.\n",
        "\n",
        "The analysis provides valuable insights into the profitability of cryptocurrency trading and can be used to inform future trading decisions."
      ],
      "metadata": {
        "id": "Fs-sRxXJLaG9"
      }
    }
  ]
}